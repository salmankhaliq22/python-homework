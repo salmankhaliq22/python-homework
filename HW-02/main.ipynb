# importing pandas library
import pandas as pd

# Importing the budget_data.csv using pandas
# reading the csv file and saving it in variable data frame (df)
df = pd.read_csv (r'G:\UofT-FinTech Bootcamp\Homework\HW_2\budget_data.csv')   

# printing the result to check the output
# print (df)                                                                     

# counting the months in the Date column
df_count_months = len(df['Date'])                                    

# printing the result for checking
# print(df_count_months)

# Calculating net profit
df_net_profit = df['Profit/Losses'].sum()

# printing the result for checking
# print(df_net_profit)

# Counting the average change in profit/losses
# Converting the column Profit/Losses from the DataFrame to a list
list_of_monthly_profit = df.iloc[:, 1].tolist()
list_of_monthly_profit.append(0)

# printing the result for verification
# print(list_of_monthly_profit)

# Iterating using for loop and finding the change in profit from month to month and storing it in another variable 'change_in_profit'
change_in_profit = []
for i in range(0,len(list_of_monthly_profit)-1):
    change_in_profit.append(list_of_monthly_profit[i+1]-list_of_monthly_profit[i])
    i = i + 1

# deleting the last value in the change_in_profit list as it is the currrent profit/loss value not the change in profit
del change_in_profit[-1]

# Calculating the average change in profit
avg_change_in_profit = sum(change_in_profit) / len(change_in_profit)

# rounding the average change in profit to 2 decimal places
round_avg_change_in_profit = round(avg_change_in_profit, 2)

# printing the result for verification
# print(avg_change_in_profit)

# The greatest increase in profits (date and amount) over the entire period.
# Converting the column Dates from DataFrame to a list
list_of_months = df.iloc[:, 0].tolist()

# Calculating greatest increase in profit 
greatest_increase_in_profit = max(change_in_profit)

# Getting the date of the greatest increase in profit
date_of_greatest_increase_in_profit = list_of_months[change_in_profit.index(greatest_increase_in_profit)+1]

# The greatest decrease in losses (date and amount) over the entire period.
# Calculating greatest decrease in profit 
greatest_decrease_in_profit = min(change_in_profit)

# Getting the date of the greatest increase in profit
date_of_greatest_decrease_in_profit = list_of_months[change_in_profit.index(greatest_decrease_in_profit)+1]

# printing the required result
f = open("output.txt", "a")
print("Financial Analysis", file=f)
print("----------------------------", file=f)
print(f"Total Months: {df_count_months}", file=f)
print(f"Total: ${df_net_profit}", file=f)
print(f"Average Change: ${round_avg_change_in_profit}", file=f)
print(f"Greatest Increase in Profits: {date_of_greatest_increase_in_profit} (${greatest_increase_in_profit})", file=f)
print(f"Greatest Increase in Profits: {date_of_greatest_decrease_in_profit} (${greatest_decrease_in_profit})", file=f)
f.close()
