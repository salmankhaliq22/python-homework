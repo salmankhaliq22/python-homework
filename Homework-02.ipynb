{
 "cells": [
  {
   "cell_type": "code",
   "execution_count": 86,
   "id": "2ee9c541-e8d4-452e-9978-be77b21163ee",
   "metadata": {},
   "outputs": [
    {
     "name": "stdout",
     "output_type": "stream",
     "text": [
      "Financial Analysis\n",
      "----------------------------\n",
      "Total Months: 86\n",
      "Total: $38382578\n",
      "Average Change: $-2315.12\n",
      "Greatest Increase in Profits: Feb-2012 ($1926159)\n",
      "Greatest Increase in Profits: Sep-2013 ($-2196167)\n"
     ]
    }
   ],
   "source": [
    "# Importing the budget_data.csv using pandas\n",
    "# importing pandas library\n",
    "import pandas as pd\n",
    "\n",
    "# reading the csv file and saving it in variable data frame (df)\n",
    "df = pd.read_csv (r'G:\\UofT-FinTech Bootcamp\\Homework\\HW_2\\budget_data.csv')   \n",
    "\n",
    "# printing the result to check the output\n",
    "# print (df)                                                                     \n",
    "\n",
    "# counting the months in the Date column\n",
    "df_count_months = len(df['Date'])                                    \n",
    "\n",
    "# printing the result for checking\n",
    "# print(df_count_months)\n",
    "\n",
    "# Calculating net profit\n",
    "df_net_profit = df['Profit/Losses'].sum()\n",
    "\n",
    "# printing the result for checking\n",
    "# print(df_net_profit)\n",
    "\n",
    "# Counting the average change in profit/losses\n",
    "# Converting the column Profit/Losses from the DataFrame to a list\n",
    "list_of_monthly_profit = df.iloc[:, 1].tolist()\n",
    "list_of_monthly_profit.append(0)\n",
    "\n",
    "# printing the result for verification\n",
    "# print(list_of_monthly_profit)\n",
    "\n",
    "# Iterating using for loop and finding the change in profit from month to month and storing it in another variable 'change_in_profit'\n",
    "change_in_profit = []\n",
    "for i in range(0,len(list_of_monthly_profit)-1):\n",
    "    change_in_profit.append(list_of_monthly_profit[i+1]-list_of_monthly_profit[i])\n",
    "    i = i + 1\n",
    "\n",
    "# deleting the last value in the change_in_profit list as it is the currrent profit/loss value not the change in profit\n",
    "del change_in_profit[-1]\n",
    "\n",
    "# Calculating the average change in profit\n",
    "avg_change_in_profit = sum(change_in_profit) / len(change_in_profit)\n",
    "\n",
    "# rounding the average change in profit to 2 decimal places\n",
    "round_avg_change_in_profit = round(avg_change_in_profit, 2)\n",
    "\n",
    "# printing the result for verification\n",
    "# print(avg_change_in_profit)\n",
    "\n",
    "# The greatest increase in profits (date and amount) over the entire period.\n",
    "# Converting the column Dates from DataFrame to a list\n",
    "list_of_months = df.iloc[:, 0].tolist()\n",
    "\n",
    "# Calculating greatest increase in profit \n",
    "greatest_increase_in_profit = max(change_in_profit)\n",
    "\n",
    "# Getting the date of the greatest increase in profit\n",
    "date_of_greatest_increase_in_profit = list_of_months[change_in_profit.index(greatest_increase_in_profit)+1]\n",
    "\n",
    "# The greatest decrease in losses (date and amount) over the entire period.\n",
    "# Calculating greatest decrease in profit \n",
    "greatest_decrease_in_profit = min(change_in_profit)\n",
    "\n",
    "# Getting the date of the greatest increase in profit\n",
    "date_of_greatest_decrease_in_profit = list_of_months[change_in_profit.index(greatest_decrease_in_profit)+1]\n",
    "\n",
    "# printing the required result\n",
    "print(\"Financial Analysis\")\n",
    "print(\"----------------------------\")\n",
    "print(f\"Total Months: {df_count_months}\")\n",
    "print(f\"Total: ${df_net_profit}\")\n",
    "print(f\"Average Change: ${round_avg_change_in_profit}\")\n",
    "print(f\"Greatest Increase in Profits: {date_of_greatest_increase_in_profit} (${greatest_increase_in_profit})\")\n",
    "print(f\"Greatest Increase in Profits: {date_of_greatest_decrease_in_profit} (${greatest_decrease_in_profit})\")"
   ]
  },
  {
   "cell_type": "code",
   "execution_count": 15,
   "id": "a0ac2e0e-8936-46f9-ab0d-8c776e4f608b",
   "metadata": {},
   "outputs": [],
   "source": [
    "Financial Analysis\n",
    "----------------------------\n",
    "Total Months: 86\n",
    "Total: $38382578\n",
    "Average  Change: $-2315.12\n",
    "Greatest Increase in Profits: Feb-2012 ($1926159)\n",
    "Greatest Decrease in Profits: Sep-2013 ($-2196167)\n"
   ]
  },
  {
   "cell_type": "code",
   "execution_count": null,
   "id": "0e0fd72e-1ce6-4f01-988b-d54fb9d275de",
   "metadata": {},
   "outputs": [],
   "source": []
  }
 ],
 "metadata": {
  "kernelspec": {
   "display_name": "Python 3 (ipykernel)",
   "language": "python",
   "name": "python3"
  },
  "language_info": {
   "codemirror_mode": {
    "name": "ipython",
    "version": 3
   },
   "file_extension": ".py",
   "mimetype": "text/x-python",
   "name": "python",
   "nbconvert_exporter": "python",
   "pygments_lexer": "ipython3",
   "version": "3.9.7"
  }
 },
 "nbformat": 4,
 "nbformat_minor": 5
}
